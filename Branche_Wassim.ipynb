{
 "cells": [
  {
   "cell_type": "code",
   "execution_count": 21,
   "id": "c9eaaaa3",
   "metadata": {},
   "outputs": [],
   "source": [
    "from sklearn.datasets import fetch_20newsgroups\n",
    "from sklearn.metrics.cluster import normalized_mutual_info_score, adjusted_rand_score\n",
    "from sentence_transformers import SentenceTransformer\n",
    "import numpy as np\n",
    "\n",
    "'''\n",
    "Variables: \n",
    "---------\n",
    "\n",
    "corpus : list of documents\n",
    "embeddings : documents embeddings of size NxM (N : number of documents, M : embedding dimension) \n",
    "red_emd : reduced embeddings matrix using dimentionality reduction\n",
    "k : number of clusters\n",
    "labels : documents labels\n",
    "pred : list of clustering predicted clusters \n",
    "\n",
    "''';"
   ]
  },
  {
   "cell_type": "code",
   "execution_count": 22,
   "id": "7b394ece",
   "metadata": {},
   "outputs": [],
   "source": [
    "# Charger les données NG20\n",
    "ng20 = fetch_20newsgroups(subset='all', remove=('headers', 'footers', 'quotes'))\n",
    "corpus = ng20.data[:2000]  # Utiliser seulement 2000 documents pour des raisons de démonstration\n",
    "labels = ng20.target[:2000]"
   ]
  },
  {
   "cell_type": "code",
   "execution_count": 23,
   "id": "f8d81c01",
   "metadata": {},
   "outputs": [
    {
     "name": "stdout",
     "output_type": "stream",
     "text": [
      "[ 0  1  2  3  4  5  6  7  8  9 10 11 12 13 14 15 16 17 18 19]\n"
     ]
    }
   ],
   "source": [
    "print(np.unique(labels))"
   ]
  },
  {
   "cell_type": "code",
   "execution_count": 24,
   "id": "60c92091",
   "metadata": {},
   "outputs": [
    {
     "name": "stdout",
     "output_type": "stream",
     "text": [
      "[''\n",
      " \"\\t daved@world.std.com (Dave T Dorfman) writes...\\n]I was enjoying lunch this saturday at foodies in Milford NH with an assortment\\n]of other nedod folks when Dean Cookson ( yes he has not left the \\n]country, yet) mentioned that the wiring diagram of the VFR750 \\n]shows that  the light switch is a three position switch. \\n\\n]high beam\\n]low beam\\n]Both beams\\n\\n]Well the actual ergonomics of the switch make it appear to be a\\n]2 position switch, but sure enough as Deam expected , when\\n]you balance the toggle switch in the center position both the high\\n]and low beams go on.\\n\\n]This provides a very nice light coverage of the road.\\n\\n]This is true for the St11 and the VFR750 and I would expect for any \\n]other late model Honda with the standard two position light switch.\\n\\n]Thanks to Dean for reading the schematics, try it you'll like it.\\n\\n\\tBe a bit careful doing this; I used to balance the switch on my GS550B\\navec Cibie' H4 insert so that both beams were on.  I eventually fried the\\nmain ignition switch, as it wasn't designed to pass that sort of current.\"\n",
      " '\\tI heard that there is a VESA driver for the XGA-2 card available on \\ncompuserve. I just got this card, and I am wondering if this driver is \\navailable on a FTP site anywhere. My news service has beeen erratic lately so\\nplease E-Mail me at:\\n\\t\\t\\t\\twalsh@stolaf.edu\\n\\tThanks in advance. \\n'\n",
      " ...\n",
      " '}>}(a) out of context;\\n}>Must have missed when you said this about these other \"promises of god\" that we keep\\n}>getting subjected to.  Could you please explain why I am wrong and they are OK?\\n}>Or an acknowledgement of public hypocrisy. Both or neither.\\n}\\n}So, according to you, Jim, the only way to criticize one person for\\n}taking a quote out of context, without being a hypocrite, is to post a\\n}response to *every* person on t.r.m who takes a quote out of context?\\n\\nDid I either ask or assert that?  Or is this your misaimed telepathy at work again?\\n\\n}>BTW to David Josli:  I\\'m still waiting for either your public\\n}>acknowledgement of your\\n}>telepathy and precognition (are you a witch?) or an appology and retraction.\\n}\\n}Can you wait without whining? To pass the time, maybe you should go\\n}back and read the portions of my article that you so conveniently\\n}deleted in your reply.  You\\'ll find most of your answers there.  \\n\\nNope:  In particular:\\nExample of telepathy?\\n\\nWhat threat.  Produce it.\\n\\nMore telepathy?  Or maybe just empathic telepathy, capable of determining emotional states.\\n\\nMore telepathy.  How do you know \"trying\"?!?!?\\n\\nPrecognition?  Substantiate.  '\n",
      " '}Dillon has published a letter in the Blue Press telling people\\n}\"How to Bankrupt HCI\" by requesting information from them.\\n}\\n}Last time this idea went around in rec.guns, a couple of people\\n}said that HCI counts all information requestors as \"members\".\\n}\\n}Can anyone confirm or deny this?\\n}\\n}If true, what\\'s the impact of HCI getting a few thousand new\\n}members?\\n\\nLast I heard, HCI had something like 250K members to the NRA\\'s 3 million.\\nIf true, and they want to play duelling mandates, well ...'\n",
      " '}start her up and rev to about 3000 rpm....I FAIL cuz I register 120 DB,\\n}and the max allowed is 110! If I fail with these pipes, there are gonna\\n\\nNext time make the numbers more believable -- this is poor flamebait.\\n120 DB is getting close to the sound of a jumbo jet engine at takeoff\\nrevs from some small number of yards away. It is certainly right\\naround the pain threshold for humans. No way in hell the state permits\\n110 DB if they have any standard at all.\\n']\n"
     ]
    }
   ],
   "source": [
    "print(np.unique(corpus))"
   ]
  },
  {
   "cell_type": "code",
   "execution_count": 25,
   "id": "e77a0f00",
   "metadata": {},
   "outputs": [],
   "source": [
    "def dim_red(mat, p):\n",
    "    '''\n",
    "    Perform dimensionality reduction\n",
    "\n",
    "    Input:\n",
    "    -----\n",
    "        mat : NxM list \n",
    "        p : number of dimensions to keep \n",
    "    Output:\n",
    "    ------\n",
    "        red_mat : NxP list such that p<<m\n",
    "    '''\n",
    "    \n",
    "    \n",
    "    pca = PCA(n_components=p)\n",
    "    \n",
    "    # Appliquer l'ACP et réduire la dimensionnalité\n",
    "    red_mat = pca.fit_transform(mat)\n",
    "    \n",
    "    \n",
    "    \n",
    "   # red_mat = mat[:,:p]\n",
    "    \n",
    "    return red_mat"
   ]
  },
  {
   "cell_type": "code",
   "execution_count": 26,
   "id": "9f2ae938",
   "metadata": {},
   "outputs": [],
   "source": [
    "def clust(mat, k):\n",
    "    '''\n",
    "    Perform clustering\n",
    "\n",
    "    Input:\n",
    "    -----\n",
    "        mat : input list \n",
    "        k : number of cluster\n",
    "    Output:\n",
    "    ------\n",
    "        pred : list of predicted labels\n",
    "    '''\n",
    "    \n",
    "    pred = np.random.randint(k, size=len(corpus))\n",
    "    \n",
    "    return pred"
   ]
  },
  {
   "cell_type": "code",
   "execution_count": 27,
   "id": "a7ca9d2f",
   "metadata": {},
   "outputs": [
    {
     "data": {
      "application/vnd.jupyter.widget-view+json": {
       "model_id": "236ece763744430996e34b60782a6424",
       "version_major": 2,
       "version_minor": 0
      },
      "text/plain": [
       ".gitattributes:   0%|          | 0.00/690 [00:00<?, ?B/s]"
      ]
     },
     "metadata": {},
     "output_type": "display_data"
    },
    {
     "data": {
      "application/vnd.jupyter.widget-view+json": {
       "model_id": "b55c5b57f94248d1947bfc4b835c0da0",
       "version_major": 2,
       "version_minor": 0
      },
      "text/plain": [
       "1_Pooling/config.json:   0%|          | 0.00/190 [00:00<?, ?B/s]"
      ]
     },
     "metadata": {},
     "output_type": "display_data"
    },
    {
     "data": {
      "application/vnd.jupyter.widget-view+json": {
       "model_id": "d3d01279eb5d410ea2ad00a3a8ab9617",
       "version_major": 2,
       "version_minor": 0
      },
      "text/plain": [
       "README.md:   0%|          | 0.00/3.69k [00:00<?, ?B/s]"
      ]
     },
     "metadata": {},
     "output_type": "display_data"
    },
    {
     "data": {
      "application/vnd.jupyter.widget-view+json": {
       "model_id": "36cd6783dcaa457cb39ec72b460c7f69",
       "version_major": 2,
       "version_minor": 0
      },
      "text/plain": [
       "config.json:   0%|          | 0.00/629 [00:00<?, ?B/s]"
      ]
     },
     "metadata": {},
     "output_type": "display_data"
    },
    {
     "data": {
      "application/vnd.jupyter.widget-view+json": {
       "model_id": "8a7f4fc8a7194b868dec3c54baf06203",
       "version_major": 2,
       "version_minor": 0
      },
      "text/plain": [
       "config_sentence_transformers.json:   0%|          | 0.00/122 [00:00<?, ?B/s]"
      ]
     },
     "metadata": {},
     "output_type": "display_data"
    },
    {
     "data": {
      "application/vnd.jupyter.widget-view+json": {
       "model_id": "89167671bd894189bf6bbb122ceb47f4",
       "version_major": 2,
       "version_minor": 0
      },
      "text/plain": [
       "pytorch_model.bin:   0%|          | 0.00/90.9M [00:00<?, ?B/s]"
      ]
     },
     "metadata": {},
     "output_type": "display_data"
    },
    {
     "data": {
      "application/vnd.jupyter.widget-view+json": {
       "model_id": "d8ba65843a90491fbc12e2b506918432",
       "version_major": 2,
       "version_minor": 0
      },
      "text/plain": [
       "sentence_bert_config.json:   0%|          | 0.00/53.0 [00:00<?, ?B/s]"
      ]
     },
     "metadata": {},
     "output_type": "display_data"
    },
    {
     "data": {
      "application/vnd.jupyter.widget-view+json": {
       "model_id": "7f606273a4d14ffd8f8afb6c9953c9df",
       "version_major": 2,
       "version_minor": 0
      },
      "text/plain": [
       "special_tokens_map.json:   0%|          | 0.00/112 [00:00<?, ?B/s]"
      ]
     },
     "metadata": {},
     "output_type": "display_data"
    },
    {
     "data": {
      "application/vnd.jupyter.widget-view+json": {
       "model_id": "f55cc38e40a6480a9ae67d5d0a1b2cb9",
       "version_major": 2,
       "version_minor": 0
      },
      "text/plain": [
       "tokenizer.json:   0%|          | 0.00/466k [00:00<?, ?B/s]"
      ]
     },
     "metadata": {},
     "output_type": "display_data"
    },
    {
     "data": {
      "application/vnd.jupyter.widget-view+json": {
       "model_id": "da64b4eb645a4e278f9e47c24e366ce2",
       "version_major": 2,
       "version_minor": 0
      },
      "text/plain": [
       "tokenizer_config.json:   0%|          | 0.00/314 [00:00<?, ?B/s]"
      ]
     },
     "metadata": {},
     "output_type": "display_data"
    },
    {
     "data": {
      "application/vnd.jupyter.widget-view+json": {
       "model_id": "423f129dee6e44eb9ca9d37271ce0081",
       "version_major": 2,
       "version_minor": 0
      },
      "text/plain": [
       "vocab.txt:   0%|          | 0.00/232k [00:00<?, ?B/s]"
      ]
     },
     "metadata": {},
     "output_type": "display_data"
    },
    {
     "data": {
      "application/vnd.jupyter.widget-view+json": {
       "model_id": "de0a382c20934d339c539b1a902d667a",
       "version_major": 2,
       "version_minor": 0
      },
      "text/plain": [
       "modules.json:   0%|          | 0.00/229 [00:00<?, ?B/s]"
      ]
     },
     "metadata": {},
     "output_type": "display_data"
    },
    {
     "ename": "NameError",
     "evalue": "name 'PCA' is not defined",
     "output_type": "error",
     "traceback": [
      "\u001b[1;31m---------------------------------------------------------------------------\u001b[0m",
      "\u001b[1;31mNameError\u001b[0m                                 Traceback (most recent call last)",
      "Input \u001b[1;32mIn [27]\u001b[0m, in \u001b[0;36m<cell line: 12>\u001b[1;34m()\u001b[0m\n\u001b[0;32m      9\u001b[0m embeddings \u001b[38;5;241m=\u001b[39m model\u001b[38;5;241m.\u001b[39mencode(corpus)\n\u001b[0;32m     11\u001b[0m \u001b[38;5;66;03m# perform dimentionality reduction\u001b[39;00m\n\u001b[1;32m---> 12\u001b[0m red_emb \u001b[38;5;241m=\u001b[39m \u001b[43mdim_red\u001b[49m\u001b[43m(\u001b[49m\u001b[43membeddings\u001b[49m\u001b[43m,\u001b[49m\u001b[43m \u001b[49m\u001b[38;5;241;43m20\u001b[39;49m\u001b[43m)\u001b[49m\n\u001b[0;32m     14\u001b[0m \u001b[38;5;66;03m# perform clustering\u001b[39;00m\n\u001b[0;32m     15\u001b[0m pred \u001b[38;5;241m=\u001b[39m clust(red_emb, k)\n",
      "Input \u001b[1;32mIn [25]\u001b[0m, in \u001b[0;36mdim_red\u001b[1;34m(mat, p)\u001b[0m\n\u001b[0;32m      1\u001b[0m \u001b[38;5;28;01mdef\u001b[39;00m \u001b[38;5;21mdim_red\u001b[39m(mat, p):\n\u001b[0;32m      2\u001b[0m     \u001b[38;5;124;03m'''\u001b[39;00m\n\u001b[0;32m      3\u001b[0m \u001b[38;5;124;03m    Perform dimensionality reduction\u001b[39;00m\n\u001b[0;32m      4\u001b[0m \n\u001b[1;32m   (...)\u001b[0m\n\u001b[0;32m     11\u001b[0m \u001b[38;5;124;03m        red_mat : NxP list such that p<<m\u001b[39;00m\n\u001b[0;32m     12\u001b[0m \u001b[38;5;124;03m    '''\u001b[39;00m\n\u001b[1;32m---> 15\u001b[0m     pca \u001b[38;5;241m=\u001b[39m \u001b[43mPCA\u001b[49m(n_components\u001b[38;5;241m=\u001b[39mp)\n\u001b[0;32m     17\u001b[0m     \u001b[38;5;66;03m# Appliquer l'ACP et réduire la dimensionnalité\u001b[39;00m\n\u001b[0;32m     18\u001b[0m     red_mat \u001b[38;5;241m=\u001b[39m pca\u001b[38;5;241m.\u001b[39mfit_transform(mat)\n",
      "\u001b[1;31mNameError\u001b[0m: name 'PCA' is not defined"
     ]
    }
   ],
   "source": [
    "# import data\n",
    "ng20 = fetch_20newsgroups(subset='test')\n",
    "corpus = ng20.data[:2000]\n",
    "labels = ng20.target[:2000]\n",
    "k = len(set(labels))\n",
    "\n",
    "# embedding\n",
    "model = SentenceTransformer('paraphrase-MiniLM-L6-v2')\n",
    "embeddings = model.encode(corpus)\n",
    "\n",
    "# perform dimentionality reduction\n",
    "red_emb = dim_red(embeddings, 20)\n",
    "\n",
    "# perform clustering\n",
    "pred = clust(red_emb, k)\n",
    "\n",
    "# evaluate clustering results\n",
    "nmi_score = normalized_mutual_info_score(pred,labels)\n",
    "ari_score = adjusted_rand_score(pred,labels)\n",
    "\n",
    "print(f'NMI: {nmi_score:.2f} \\nARI: {ari_score:.2f}')\n"
   ]
  }
 ],
 "metadata": {
  "kernelspec": {
   "display_name": "Python 3 (ipykernel)",
   "language": "python",
   "name": "python3"
  },
  "language_info": {
   "codemirror_mode": {
    "name": "ipython",
    "version": 3
   },
   "file_extension": ".py",
   "mimetype": "text/x-python",
   "name": "python",
   "nbconvert_exporter": "python",
   "pygments_lexer": "ipython3",
   "version": "3.9.12"
  }
 },
 "nbformat": 4,
 "nbformat_minor": 5
}
