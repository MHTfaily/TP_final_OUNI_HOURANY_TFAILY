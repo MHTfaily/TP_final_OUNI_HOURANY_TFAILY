{
 "cells": [
  {
   "cell_type": "code",
   "execution_count": 17,
   "id": "c9eaaaa3",
   "metadata": {},
   "outputs": [],
   "source": [
    "from sklearn.datasets import fetch_20newsgroups\n",
    "from sklearn.metrics.cluster import normalized_mutual_info_score, adjusted_rand_score\n",
    "from sentence_transformers import SentenceTransformer\n",
    "import numpy as np\n",
    "\n",
    "from sklearn.decomposition import FactorAnalysis # library used for AFC\n",
    "\n",
    "from sklearn.cluster import KMeans # library used for AFC\n",
    "\n",
    "'''\n",
    "Variables: \n",
    "---------\n",
    "\n",
    "corpus : list of documents\n",
    "embeddings : documents embeddings of size NxM (N : number of documents, M : embedding dimension) \n",
    "red_emd : reduced embeddings matrix using dimentionality reduction\n",
    "k : number of clusters\n",
    "labels : documents labels\n",
    "pred : list of clustering predicted clusters \n",
    "\n",
    "''';"
   ]
  },
  {
   "cell_type": "code",
   "execution_count": 18,
   "id": "e77a0f00",
   "metadata": {},
   "outputs": [],
   "source": [
    "def dim_red(mat, p):\n",
    "    '''\n",
    "    Perform dimensionality reduction using Factor Analysis (l'AFC)\n",
    "\n",
    "    Input:\n",
    "    -----\n",
    "        mat : NxM list or array-like \n",
    "        p : number of dimensions to keep \n",
    "    Output:\n",
    "    ------\n",
    "        red_mat : NxP array such that p<<m\n",
    "    '''\n",
    "    # Convert the input list to a NumPy array if it's not already an array\n",
    "    mat_np = mat if isinstance(mat, np.ndarray) else np.array(mat)\n",
    "    \n",
    "    # Initialize Factor Analysis model with desired number of components\n",
    "    fa = FactorAnalysis(n_components=p)\n",
    "    \n",
    "    # Fit and transform the data to the lower-dimensional space\n",
    "    red_mat = fa.fit_transform(mat_np)\n",
    "    \n",
    "    return red_mat\n"
   ]
  },
  {
   "cell_type": "code",
   "execution_count": 19,
   "id": "9f2ae938",
   "metadata": {},
   "outputs": [],
   "source": [
    "def clust(mat, k):\n",
    "    '''\n",
    "    Perform clustering using KMeans\n",
    "\n",
    "    Input:\n",
    "    -----\n",
    "        mat : input list or array-like\n",
    "        k : number of clusters\n",
    "    Output:\n",
    "    ------\n",
    "        pred : list of predicted labels\n",
    "    '''\n",
    "    # Convert the input list to a NumPy array if it's not already an array\n",
    "    mat_np = mat if isinstance(mat, np.ndarray) else np.array(mat)\n",
    "    \n",
    "    # Initialize KMeans model with the desired number of clusters\n",
    "    kmeans = KMeans(n_clusters=k)\n",
    "    \n",
    "    # Fit KMeans to the data and predict cluster labels\n",
    "    pred = kmeans.fit_predict(mat_np)\n",
    "    \n",
    "    return pred.tolist()\n"
   ]
  },
  {
   "cell_type": "code",
   "execution_count": 20,
   "id": "a7ca9d2f",
   "metadata": {},
   "outputs": [
    {
     "data": {
      "application/vnd.jupyter.widget-view+json": {
       "model_id": "3ba0cb28c1a641fe90f06b04c75c6446",
       "version_major": 2,
       "version_minor": 0
      },
      "text/plain": [
       "Downloading (…)\".gitattributes\";:   0%|          | 0.00/690 [00:00<?, ?B/s]"
      ]
     },
     "metadata": {},
     "output_type": "display_data"
    },
    {
     "data": {
      "application/vnd.jupyter.widget-view+json": {
       "model_id": "76e9468e8c334294b73b653d88eaeb2e",
       "version_major": 2,
       "version_minor": 0
      },
      "text/plain": [
       "Downloading (…)ooling/config.json\";:   0%|          | 0.00/190 [00:00<?, ?B/s]"
      ]
     },
     "metadata": {},
     "output_type": "display_data"
    },
    {
     "data": {
      "application/vnd.jupyter.widget-view+json": {
       "model_id": "2bce841f877f42ceb9f6f390e618d146",
       "version_major": 2,
       "version_minor": 0
      },
      "text/plain": [
       "Downloading (…)\"README.md\";:   0%|          | 0.00/3.69k [00:00<?, ?B/s]"
      ]
     },
     "metadata": {},
     "output_type": "display_data"
    },
    {
     "data": {
      "application/vnd.jupyter.widget-view+json": {
       "model_id": "4957f59cdf6d470e9c9337ce42ddaf42",
       "version_major": 2,
       "version_minor": 0
      },
      "text/plain": [
       "Downloading (…)\"config.json\";:   0%|          | 0.00/629 [00:00<?, ?B/s]"
      ]
     },
     "metadata": {},
     "output_type": "display_data"
    },
    {
     "data": {
      "application/vnd.jupyter.widget-view+json": {
       "model_id": "cee03b04b31746c09a6fff50752827dc",
       "version_major": 2,
       "version_minor": 0
      },
      "text/plain": [
       "Downloading (…)_transformers.json\";:   0%|          | 0.00/122 [00:00<?, ?B/s]"
      ]
     },
     "metadata": {},
     "output_type": "display_data"
    },
    {
     "data": {
      "application/vnd.jupyter.widget-view+json": {
       "model_id": "a57ed9176b344def96b7bd82245042b2",
       "version_major": 2,
       "version_minor": 0
      },
      "text/plain": [
       "Downloading (…)\"pytorch_model.bin\";:   0%|          | 0.00/90.9M [00:00<?, ?B/s]"
      ]
     },
     "metadata": {},
     "output_type": "display_data"
    },
    {
     "data": {
      "application/vnd.jupyter.widget-view+json": {
       "model_id": "ed9d549f1fcd4d69b166f5f4c8674ba6",
       "version_major": 2,
       "version_minor": 0
      },
      "text/plain": [
       "Downloading (…)e_bert_config.json\";:   0%|          | 0.00/53.0 [00:00<?, ?B/s]"
      ]
     },
     "metadata": {},
     "output_type": "display_data"
    },
    {
     "data": {
      "application/vnd.jupyter.widget-view+json": {
       "model_id": "384aeb4b8f4043bf879c1d6f5245f0dc",
       "version_major": 2,
       "version_minor": 0
      },
      "text/plain": [
       "Downloading (…)al_tokens_map.json\";:   0%|          | 0.00/112 [00:00<?, ?B/s]"
      ]
     },
     "metadata": {},
     "output_type": "display_data"
    },
    {
     "data": {
      "application/vnd.jupyter.widget-view+json": {
       "model_id": "5c154ce3411a4f3097ccdd8466ac3b90",
       "version_major": 2,
       "version_minor": 0
      },
      "text/plain": [
       "Downloading (…)\"tokenizer.json\";:   0%|          | 0.00/466k [00:00<?, ?B/s]"
      ]
     },
     "metadata": {},
     "output_type": "display_data"
    },
    {
     "data": {
      "application/vnd.jupyter.widget-view+json": {
       "model_id": "efa6a78631b44662948c1a624fc4587d",
       "version_major": 2,
       "version_minor": 0
      },
      "text/plain": [
       "Downloading (…)enizer_config.json\";:   0%|          | 0.00/314 [00:00<?, ?B/s]"
      ]
     },
     "metadata": {},
     "output_type": "display_data"
    },
    {
     "data": {
      "application/vnd.jupyter.widget-view+json": {
       "model_id": "e13d391f226348cdbd69ccd2b5845ac6",
       "version_major": 2,
       "version_minor": 0
      },
      "text/plain": [
       "Downloading (…)\"vocab.txt\";:   0%|          | 0.00/232k [00:00<?, ?B/s]"
      ]
     },
     "metadata": {},
     "output_type": "display_data"
    },
    {
     "data": {
      "application/vnd.jupyter.widget-view+json": {
       "model_id": "35a3cac0a83440049eafd732b4a7e6e2",
       "version_major": 2,
       "version_minor": 0
      },
      "text/plain": [
       "Downloading (…)\"modules.json\";:   0%|          | 0.00/229 [00:00<?, ?B/s]"
      ]
     },
     "metadata": {},
     "output_type": "display_data"
    },
    {
     "name": "stderr",
     "output_type": "stream",
     "text": [
      "C:\\Users\\moham\\anaconda3\\lib\\site-packages\\sklearn\\cluster\\_kmeans.py:870: FutureWarning: The default value of `n_init` will change from 10 to 'auto' in 1.4. Set the value of `n_init` explicitly to suppress the warning\n",
      "  warnings.warn(\n",
      "C:\\Users\\moham\\anaconda3\\lib\\site-packages\\sklearn\\cluster\\_kmeans.py:1382: UserWarning: KMeans is known to have a memory leak on Windows with MKL, when there are less chunks than available threads. You can avoid it by setting the environment variable OMP_NUM_THREADS=8.\n",
      "  warnings.warn(\n"
     ]
    },
    {
     "name": "stdout",
     "output_type": "stream",
     "text": [
      "NMI: 0.40 \n",
      "ARI: 0.23\n"
     ]
    }
   ],
   "source": [
    "# import data\n",
    "ng20 = fetch_20newsgroups(subset='test')\n",
    "corpus = ng20.data[:2000]\n",
    "labels = ng20.target[:2000]\n",
    "k = len(set(labels))\n",
    "\n",
    "# embedding\n",
    "model = SentenceTransformer('paraphrase-MiniLM-L6-v2')\n",
    "embeddings = model.encode(corpus)\n",
    "\n",
    "# perform dimentionality reduction\n",
    "red_emb = dim_red(embeddings, 20)\n",
    "\n",
    "# perform clustering\n",
    "pred = clust(red_emb, k)\n",
    "\n",
    "# evaluate clustering results\n",
    "nmi_score = normalized_mutual_info_score(pred,labels)\n",
    "ari_score = adjusted_rand_score(pred,labels)\n",
    "\n",
    "print(f'NMI: {nmi_score:.2f} \\nARI: {ari_score:.2f}')\n"
   ]
  }
 ],
 "metadata": {
  "kernelspec": {
   "display_name": "Python 3 (ipykernel)",
   "language": "python",
   "name": "python3"
  },
  "language_info": {
   "codemirror_mode": {
    "name": "ipython",
    "version": 3
   },
   "file_extension": ".py",
   "mimetype": "text/x-python",
   "name": "python",
   "nbconvert_exporter": "python",
   "pygments_lexer": "ipython3",
   "version": "3.9.12"
  }
 },
 "nbformat": 4,
 "nbformat_minor": 5
}
